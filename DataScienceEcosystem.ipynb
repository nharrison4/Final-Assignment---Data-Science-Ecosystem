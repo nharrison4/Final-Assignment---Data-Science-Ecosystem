{
 "cells": [
  {
   "cell_type": "markdown",
   "id": "3a5adf3f-c062-46e6-853f-3ab3f30edf1e",
   "metadata": {},
   "source": [
    "# Data Science Tools and Ecosystem"
   ]
  },
  {
   "cell_type": "markdown",
   "id": "4cbd3796-1933-4805-9805-6b9938f24156",
   "metadata": {},
   "source": [
    "In this notebook, Data Science Tools and Ecosystem are summarized."
   ]
  },
  {
   "cell_type": "markdown",
   "id": "27a926e5-ba18-46bd-8db1-bff18fb9e499",
   "metadata": {},
   "source": [
    "**Objectives:**\n",
    "\n",
    "- List popular languages in data science\n",
    "- List commonly used libraries in data science\n",
    "- List open-source development environment data science tools\n",
    "- Demonstrate the uses of arithmetic expressions in Python"
   ]
  },
  {
   "cell_type": "markdown",
   "id": "d19e27bc-68b4-44ce-9e1a-03da54beb572",
   "metadata": {},
   "source": [
    "## Author\n",
    "Natalie Harrison"
   ]
  },
  {
   "cell_type": "markdown",
   "id": "9956894f-45e6-450b-b4dc-c7dfa5a9a0db",
   "metadata": {},
   "source": [
    "Some of the popular languages that Data Scientists use are:\n",
    "\n",
    "1. R\n",
    "2. Python\n",
    "3. SQL\n",
    "4. Java"
   ]
  },
  {
   "cell_type": "markdown",
   "id": "5d370b09-a77f-4b8d-a595-c130cdb88804",
   "metadata": {},
   "source": [
    "Some of the commonly used libraries used by Data Scientists include:\n",
    "\n",
    "1. ggplot2\n",
    "2. dyplr\n",
    "3. Pandas\n",
    "4. NumPy\n",
    "5. Matplotlib"
   ]
  },
  {
   "cell_type": "markdown",
   "id": "eaaafb9b-10b3-4d06-8bb6-fd50dddaa656",
   "metadata": {},
   "source": [
    "|Data Science Tools|\n",
    "|------------------|\n",
    "| Jupyter Notebook |\n",
    "|     VS code      |\n",
    "|     R Studio     |"
   ]
  },
  {
   "cell_type": "markdown",
   "id": "3077052a-4b42-4627-8d08-900c42b28fc3",
   "metadata": {},
   "source": [
    "### Below are a few examples of evaluating arithmetic expressions in Python"
   ]
  },
  {
   "cell_type": "code",
   "execution_count": 1,
   "id": "5d61c472-faf4-4814-b79e-6a14c84152fa",
   "metadata": {},
   "outputs": [
    {
     "data": {
      "text/plain": [
       "17"
      ]
     },
     "execution_count": 1,
     "metadata": {},
     "output_type": "execute_result"
    }
   ],
   "source": [
    "# This a simple arithmetic expression to mutiply then add integers\n",
    "(3*4)+5"
   ]
  },
  {
   "cell_type": "code",
   "execution_count": 2,
   "id": "5a8762fb-f7f6-476f-a9c6-4ea8e0d12b3c",
   "metadata": {},
   "outputs": [
    {
     "data": {
      "text/plain": [
       "3.3333333333333335"
      ]
     },
     "execution_count": 2,
     "metadata": {},
     "output_type": "execute_result"
    }
   ],
   "source": [
    "# This will convert 200 minutes to hours by diving by 60\n",
    "200/60"
   ]
  }
 ],
 "metadata": {
  "kernelspec": {
   "display_name": "Python 3 (ipykernel)",
   "language": "python",
   "name": "python3"
  },
  "language_info": {
   "codemirror_mode": {
    "name": "ipython",
    "version": 3
   },
   "file_extension": ".py",
   "mimetype": "text/x-python",
   "name": "python",
   "nbconvert_exporter": "python",
   "pygments_lexer": "ipython3",
   "version": "3.11.7"
  }
 },
 "nbformat": 4,
 "nbformat_minor": 5
}
